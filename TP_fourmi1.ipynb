{
 "cells": [
  {
   "cell_type": "code",
   "execution_count": 2,
   "metadata": {},
   "outputs": [],
   "source": [
    "import tkinter as tk\n",
    "import PIL as pil\n",
    "from PIL import Image\n",
    "from PIL import ImageTk \n",
    "from tkinter import *"
   ]
  },
  {
   "cell_type": "code",
   "execution_count": 5,
   "metadata": {},
   "outputs": [],
   "source": [
    "#premier programme de création de quadrillage\n",
    "taille_carre=30\n",
    "nombre_carreau=24\n",
    "n=nombre_carreau\n",
    "def fourmi():\n",
    "\tcase.create_oval(0,0)\n",
    "\n",
    "\n",
    "def quadrillage():\n",
    "\ty = 0\n",
    "\twhile y < n:\n",
    "\t\tif y % 2 == 0: # Décale une fois sur deux \n",
    "\t\t\tx = 0      # la position du premier carré noir\n",
    "\t\telse:\n",
    "\t\t\tx = 1\n",
    "\t\tpetite_case(x*taille_carre, y*taille_carre)\n",
    "\t\ty += 1\n",
    "\n",
    "\n",
    "\n",
    "def petite_case(x, y):\n",
    "\ti = 0\n",
    "\twhile i < n/2:\n",
    "\t\tcase.create_rectangle(x, y, (x+taille_carre), (y+taille_carre), outline= \"black\")\n",
    "\t\ti += 1\n",
    "\t\tx += taille_carre * 2\n",
    "\n",
    "\n",
    "\n",
    "fenetre=tk.Tk()\n",
    "fenetre.title(\"Jeu de la fourmi\")\n",
    "case=tk.Canvas(fenetre,height=taille_carre*n,width=taille_carre*n ,bg='white' )\n",
    "case.pack(side = BOTTOM, padx = 70, pady = 70)\n",
    "bouton1=tk.Button(fenetre,text=\"creer quadrillage\" ,command=quadrillage)\n",
    "bouton1.pack(side=TOP) \n",
    "fenetre.mainloop()\n",
    "\n",
    "\n",
    "\n",
    "\n"
   ]
  },
  {
   "cell_type": "code",
   "execution_count": null,
   "metadata": {},
   "outputs": [],
   "source": []
  }
 ],
 "metadata": {
  "kernelspec": {
   "display_name": "base",
   "language": "python",
   "name": "python3"
  },
  "language_info": {
   "codemirror_mode": {
    "name": "ipython",
    "version": 3
   },
   "file_extension": ".py",
   "mimetype": "text/x-python",
   "name": "python",
   "nbconvert_exporter": "python",
   "pygments_lexer": "ipython3",
   "version": "3.9.7"
  },
  "orig_nbformat": 4,
  "vscode": {
   "interpreter": {
    "hash": "2db869d8aaf6188c015ac7815317ea55af87d51fcea0b96f709b0199da36b203"
   }
  }
 },
 "nbformat": 4,
 "nbformat_minor": 2
}
