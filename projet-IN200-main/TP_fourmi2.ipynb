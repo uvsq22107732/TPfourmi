{
 "cells": [
  {
   "cell_type": "code",
   "execution_count": 1,
   "metadata": {},
   "outputs": [],
   "source": [
    "import tkinter as tk\n",
    "import PIL as pil\n",
    "from PIL import Image\n",
    "from PIL import ImageTk \n",
    "from tkinter import *"
   ]
  },
  {
   "cell_type": "code",
   "execution_count": 7,
   "metadata": {},
   "outputs": [
    {
     "name": "stderr",
     "output_type": "stream",
     "text": [
      "Exception in Tkinter callback\n",
      "Traceback (most recent call last):\n",
      "  File \"C:\\Users\\basox\\miniconda3\\lib\\tkinter\\__init__.py\", line 1892, in __call__\n",
      "    return self.func(*args)\n",
      "  File \"C:\\Users\\basox\\AppData\\Local\\Temp\\ipykernel_6732\\592489421.py\", line 30, in quadrillage\n",
      "    fourmi()\n",
      "TypeError: 'Tk' object is not callable\n"
     ]
    }
   ],
   "source": [
    "#premier programme de création de quadrillage\n",
    "taille_carre=30\n",
    "\t\n",
    "\n",
    "def nombre_carreau():\n",
    "\tn=int(input(\"nombre de carreau sur une ligne?\"))\n",
    "\tif n<=25:\n",
    "\t\treturn n \n",
    "\telse:\n",
    "\t\tprint(\"nombre trop grand!\")\n",
    "\t\treturn 1\n",
    "\n",
    "n=nombre_carreau()\n",
    "height=taille_carre*n\n",
    "width=taille_carre*n\n",
    "\n",
    "\n",
    "\n",
    "\n",
    "\n",
    "def quadrillage():\n",
    "\ty = 0\n",
    "\twhile y < n:\n",
    "\t\tif y % 2 == 0: # Décale une fois sur deux \n",
    "\t\t\tx = 0      # la position du premier carré noir\n",
    "\t\telse:\n",
    "\t\t\tx = 1\n",
    "\t\tpetite_case(x*taille_carre, y*taille_carre)\n",
    "\t\ty += 1\n",
    "\tfourmi()\n",
    "\n",
    "\n",
    "def petite_case(x, y):\n",
    "\ti = 0\n",
    "\twhile i < n/2:\n",
    "\t\tcase.create_rectangle(x, y, (x+taille_carre), (y+taille_carre), outline= \"black\")\n",
    "\t\ti += 1\n",
    "\t\tx += taille_carre * 2\n",
    "\n",
    "\n",
    "\t\n",
    "\n",
    "fenetre=tk.Tk()\n",
    "fenetre.title(\"Jeu de la fourmi\")\n",
    "case=tk.Canvas(fenetre,height=height,width=width ,bg='white' )\n",
    "case.pack(side = BOTTOM, padx = 70, pady = 70)\n",
    "bouton1=tk.Button(fenetre,text=\"creer quadrillage\" ,command=quadrillage)\n",
    "bouton1.pack(side=TOP) \n",
    "img =PhotoImage(file=\"Fourmi.png\")\n",
    "label=Label(fenetre,height=30,width=30,image=img)\n",
    "label.image=img\n",
    "label.pack()\n",
    "#bouton2=tk.Button(fenetre,text=\"fourmi\",command=fourmi)\n",
    "#bouton2.pack(side=LEFT)\n",
    "fenetre.mainloop()\n",
    "\n",
    "\n",
    "\n",
    "\n"
   ]
  },
  {
   "cell_type": "code",
   "execution_count": 3,
   "metadata": {},
   "outputs": [],
   "source": []
  },
  {
   "cell_type": "code",
   "execution_count": null,
   "metadata": {},
   "outputs": [],
   "source": []
  }
 ],
 "metadata": {
  "kernelspec": {
   "display_name": "base",
   "language": "python",
   "name": "python3"
  },
  "language_info": {
   "codemirror_mode": {
    "name": "ipython",
    "version": 3
   },
   "file_extension": ".py",
   "mimetype": "text/x-python",
   "name": "python",
   "nbconvert_exporter": "python",
   "pygments_lexer": "ipython3",
   "version": "3.9.7"
  },
  "orig_nbformat": 4,
  "vscode": {
   "interpreter": {
    "hash": "2db869d8aaf6188c015ac7815317ea55af87d51fcea0b96f709b0199da36b203"
   }
  }
 },
 "nbformat": 4,
 "nbformat_minor": 2
}
